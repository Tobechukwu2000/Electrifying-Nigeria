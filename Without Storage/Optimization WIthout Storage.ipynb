{
 "cells": [
  {
   "cell_type": "code",
   "execution_count": null,
   "metadata": {},
   "outputs": [],
   "source": [
    "import pandas as pd\n",
    "import numpy as np\n",
    "\n",
    "from sklearn.model_selection import train_test_split, KFold, cross_val_score\n",
    "from sklearn.metrics import r2_score, mean_squared_error, mean_absolute_error\n",
    "from sklearn.preprocessing import StandardScaler, MinMaxScaler\n",
    "\n",
    "# Models: ANN, ELM, SVR, KRR, RF, XGB\n",
    "from sklearn.neural_network import MLPRegressor\n",
    "from sklearn.svm import SVR\n",
    "from sklearn.kernel_ridge import KernelRidge\n",
    "from sklearn.ensemble import RandomForestRegressor\n",
    "from xgboost import XGBRegressor\n",
    "\n",
    "import warnings\n",
    "warnings.filterwarnings('ignore')\n",
    "\n",
    "from mealpy.evolutionary_based.GA import BaseGA, MultiGA, EliteSingleGA, SingleGA\n",
    "from mealpy.swarm_based.PSO import CL_PSO\n",
    "from mealpy.swarm_based.MRFO import OriginalMRFO\n",
    "from mealpy.swarm_based.SCSO import OriginalSCSO\n",
    "\n",
    "from mealpy.utils.problem import Problem"
   ]
  },
  {
   "cell_type": "markdown",
   "metadata": {},
   "source": [
    "Import the data"
   ]
  },
  {
   "cell_type": "code",
   "execution_count": null,
   "metadata": {},
   "outputs": [],
   "source": [
    "rawdata = pd.read_excel(\"Data No Storage.xlsx\")"
   ]
  },
  {
   "cell_type": "code",
   "execution_count": null,
   "metadata": {},
   "outputs": [],
   "source": [
    "import random\n",
    "\n",
    "def fixed_randomization(data):\n",
    "    np.random.seed(42) \n",
    "    rand_data = data.sample(frac=1).reset_index(drop=True)\n",
    "    return rand_data\n",
    "\n",
    "rand_data = fixed_randomization(rawdata)"
   ]
  },
  {
   "cell_type": "code",
   "execution_count": null,
   "metadata": {},
   "outputs": [],
   "source": [
    "X_data_unscale = rand_data[rand_data.columns[0:6]]\n",
    "Y_data_unscale = rand_data[rand_data.columns[6:11]]\n",
    "\n",
    "Y_data = Y_data_unscale"
   ]
  },
  {
   "cell_type": "code",
   "execution_count": null,
   "metadata": {},
   "outputs": [],
   "source": [
    "SS = StandardScaler()\n",
    "MMS = MinMaxScaler()\n",
    "X_data = SS.fit_transform(X_data_unscale)\n",
    "X_data_scaled = pd.DataFrame(X_data, columns=X_data_unscale.columns)\n",
    "\n",
    "# Now X_data_scaled has the same column names as X_data_unscale\n",
    "X_data = X_data_scaled.copy()  # Optionally, you can directly overwrite X_data_scaled if you don't need it later\n"
   ]
  },
  {
   "cell_type": "code",
   "execution_count": null,
   "metadata": {},
   "outputs": [],
   "source": [
    "X_train, X_test, Y_train, Y_test = train_test_split(X_data, Y_data, test_size=0.3, random_state=42)"
   ]
  },
  {
   "cell_type": "code",
   "execution_count": null,
   "metadata": {},
   "outputs": [],
   "source": [
    "y1_data = Y_data[Y_data.columns[0:1]]\n",
    "y2_data = Y_data[Y_data.columns[1:2]]\n",
    "y3_data = Y_data[Y_data.columns[2:3]]\n",
    "y4_data = Y_data[Y_data.columns[3:4]]\n",
    "y5_data = Y_data[Y_data.columns[4:5]]\n",
    "\n",
    "\n",
    "y1_train = Y_train[Y_train.columns[0:1]]\n",
    "y2_train = Y_train[Y_train.columns[1:2]]\n",
    "y3_train = Y_train[Y_train.columns[2:3]]\n",
    "y4_train = Y_train[Y_train.columns[3:4]]\n",
    "y5_train = Y_train[Y_train.columns[4:5]]\n",
    "\n",
    "\n",
    "y1_test = Y_test[Y_test.columns[0:1]]\n",
    "y2_test = Y_test[Y_test.columns[1:2]]\n",
    "y3_test = Y_test[Y_test.columns[2:3]]\n",
    "y4_test = Y_test[Y_test.columns[3:4]]\n",
    "y5_test = Y_test[Y_test.columns[4:5]]"
   ]
  },
  {
   "cell_type": "code",
   "execution_count": null,
   "metadata": {},
   "outputs": [],
   "source": []
  },
  {
   "cell_type": "code",
   "execution_count": null,
   "metadata": {},
   "outputs": [],
   "source": [
    "y_data = y1_data\n",
    "y_train = y1_train\n",
    "y_test = y1_test\n",
    "\n",
    "y1_params = {'C': 792455.0628709563, 'epsilon': 1.615158320784387, 'kernel': 'rbf', 'degree': 4, 'gamma': 0.018028712570561923}\n",
    "\n",
    "\n",
    "model_y1 = SVR(**y1_params)\n",
    "model_y1.fit(X_data, y_data)"
   ]
  },
  {
   "cell_type": "code",
   "execution_count": null,
   "metadata": {},
   "outputs": [],
   "source": [
    "y_data = y2_data\n",
    "y_train = y2_train\n",
    "y_test = y2_test\n",
    "\n",
    "y2_params = {'C': 35529.565119700674, 'epsilon': 0.01398121990100254, 'kernel': 'rbf', 'degree': 4, 'gamma': 0.00759513082892152}\n",
    "\n",
    "model_y2 = SVR(**y2_params)\n",
    "model_y2.fit(X_data, y_data)"
   ]
  },
  {
   "cell_type": "code",
   "execution_count": null,
   "metadata": {},
   "outputs": [],
   "source": [
    "y_data = y3_data\n",
    "y_train = y3_train\n",
    "y_test = y3_test\n",
    "\n",
    "y3_params = {'C': 741046.8928371427, 'epsilon': 0.010895466956371502, 'kernel': 'rbf', 'degree': 5, 'gamma': 0.009751068786055191}\n",
    "\n",
    "model_y3 = SVR(**y3_params)\n",
    "model_y3.fit(X_data, y_data)"
   ]
  },
  {
   "cell_type": "code",
   "execution_count": null,
   "metadata": {},
   "outputs": [],
   "source": [
    "y_data = y4_data\n",
    "y_train = y4_train\n",
    "y_test = y4_test\n",
    "\n",
    "model_y4 = MLPRegressor(hidden_layer_sizes=(33, 10, 8, 40), activation='relu', alpha=0.20068666427656182, solver='lbfgs', random_state=52)\n",
    "\n",
    "model_y4.fit(X_data, y_data)"
   ]
  },
  {
   "cell_type": "code",
   "execution_count": null,
   "metadata": {},
   "outputs": [],
   "source": []
  },
  {
   "cell_type": "code",
   "execution_count": null,
   "metadata": {},
   "outputs": [],
   "source": []
  },
  {
   "cell_type": "code",
   "execution_count": null,
   "metadata": {},
   "outputs": [],
   "source": [
    "# Define prediction functions\n",
    "def A(X_data):\n",
    "    return model_y1.predict(np.array(X_data).reshape(1, -1))\n",
    "\n",
    "def B(X_data):\n",
    "    return model_y2.predict(np.array(X_data).reshape(1, -1))\n",
    "\n",
    "def C(X_data):\n",
    "    return model_y3.predict(np.array(X_data).reshape(1, -1))\n",
    "\n",
    "def D(X_data):\n",
    "    return model_y4.predict(np.array(X_data).reshape(1, -1))\n",
    "\n",
    "\n",
    "\n",
    "# Objective function\n",
    "def obj_fun(solution):\n",
    "    val1 = A(solution)\n",
    "    val2 = B(solution)\n",
    "    val3 = C(solution)\n",
    "    val4 = D(solution)\n",
    "\n",
    "    val = [val1, val2, val3, val4]\n",
    "    val = [item for sublist in val for item in sublist]\n",
    "\n",
    "    return val\n",
    "\n",
    "# Define problem dictionary for genetic algorithm\n",
    "problem_dict1 = {\n",
    "    \"fit_func\": obj_fun,\n",
    "    \"lb\": [X_data['PP1'].min(), X_data['Nuclear'].min(), X_data['Wind'].min(), X_data['PV'].min(), X_data['RH'].min(), X_data['CSP'].min()],\n",
    "    \"ub\": [X_data['PP1'].max(), X_data['Nuclear'].max(), X_data['Wind'].max(), X_data['PV'].max(), X_data['RH'].max(), X_data['CSP'].max()],\n",
    "    \"minmax\": \"min\",\n",
    "    \"obj_weights\": [1, 1, 1, 1]\n",
    "}"
   ]
  },
  {
   "cell_type": "code",
   "execution_count": null,
   "metadata": {},
   "outputs": [],
   "source": [
    "epoch = 200\n",
    "pop_size = 20\n",
    "pc = 0.001\n",
    "pm = 0.05\n",
    "model_ga = BaseGA(epoch, pop_size, pc, pm)\n",
    "best_position_ga, best_fitness_ga = model_ga.solve(problem_dict1)\n",
    "\n",
    "print(\"Best Solution:\")\n",
    "print(\"X1:\", best_position_ga[0])\n",
    "print(\"X2:\", best_position_ga[1])\n",
    "print(\"Best Fitness:\", best_fitness_ga)\n",
    "\n",
    "print(model_ga.solution[0])\n",
    "print(f\"fitness: {model_ga.solution[1][0]}\")\n",
    "print(f\"objective values: {model_ga.solution[1][1]}\")\n",
    "print(\"Sum of variables:\", sum(model_ga.solution[0]))"
   ]
  },
  {
   "cell_type": "code",
   "execution_count": null,
   "metadata": {},
   "outputs": [],
   "source": [
    "MS = pd.DataFrame(model_ga.solution[0])\n",
    "MS_df = pd.DataFrame(MS)\n",
    "MS = MS_df.T\n",
    "s_mean = SS.mean_\n",
    "s_scale = SS.scale_\n",
    "Optimized_Inputs = (MS * s_scale) + s_mean\n",
    "Optimized_Inputs"
   ]
  },
  {
   "cell_type": "code",
   "execution_count": null,
   "metadata": {},
   "outputs": [],
   "source": [
    "model_ga.history.save_global_objectives_chart(filename=\"hello4/goc\")\n",
    "model_ga.history.save_local_objectives_chart(filename=\"hello4/loc\")\n",
    "\n",
    "model_ga.history.save_global_best_fitness_chart(filename=\"hello4/gbfc\")\n",
    "model_ga.history.save_local_best_fitness_chart(filename=\"hello4/lbfc\")\n",
    "\n",
    "model_ga.history.save_runtime_chart(filename=\"hello4/rtc\")\n",
    "\n",
    "model_ga.history.save_exploration_exploitation_chart(filename=\"hello4/eec\")\n",
    "\n",
    "model_ga.history.save_diversity_chart(filename=\"hello4/dc\")\n",
    "\n",
    "#model.history.save_trajectory_chart(list_agent_idx=[3, 5, 6, 7,], selected_dimensions=[3, 4], filename=\"hello2/tc\")"
   ]
  },
  {
   "cell_type": "code",
   "execution_count": null,
   "metadata": {},
   "outputs": [],
   "source": []
  },
  {
   "cell_type": "code",
   "execution_count": null,
   "metadata": {},
   "outputs": [],
   "source": []
  },
  {
   "cell_type": "code",
   "execution_count": null,
   "metadata": {},
   "outputs": [],
   "source": []
  },
  {
   "cell_type": "code",
   "execution_count": null,
   "metadata": {},
   "outputs": [],
   "source": []
  }
 ],
 "metadata": {
  "kernelspec": {
   "display_name": "base",
   "language": "python",
   "name": "python3"
  },
  "language_info": {
   "codemirror_mode": {
    "name": "ipython",
    "version": 3
   },
   "file_extension": ".py",
   "mimetype": "text/x-python",
   "name": "python",
   "nbconvert_exporter": "python",
   "pygments_lexer": "ipython3",
   "version": "3.11.4"
  }
 },
 "nbformat": 4,
 "nbformat_minor": 2
}
